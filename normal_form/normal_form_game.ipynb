{
 "cells": [
  {
   "cell_type": "markdown",
   "metadata": {},
   "source": [
    "# Stackleberg equilibrium\n",
    "\n",
    "This notebook is used to find the stackleberg equilibrium for a game in extensive form translated into normal-form."
   ]
  },
  {
   "cell_type": "code",
   "execution_count": 103,
   "metadata": {},
   "outputs": [],
   "source": [
    "from amplpy import AMPL\n",
    "import pandas as pd"
   ]
  },
  {
   "cell_type": "code",
   "execution_count": 104,
   "metadata": {},
   "outputs": [],
   "source": [
    "def data_preprocesing(players, actions, utility_matrices):\n",
    "    actions_encoded = {player: [i for i in range(len(actions[player]))] for player in players}\n",
    "    utilities_df = {player: pd.DataFrame(utility_matrices[player], index=actions_encoded['leader'], columns=actions_encoded['follower']) for player in players}\n",
    "    \n",
    "    return utilities_df, actions_encoded\n",
    "\n",
    "def stackleberg_equilibrium(players, actions, utilities):\n",
    "    utilities_df, actions_encoded = data_preprocesing(players, actions, utilities)\n",
    "    \n",
    "    ampl = AMPL()\n",
    "    ampl.read('normal_stackleberg.mod')\n",
    "    \n",
    "    ampl.set['Al'] = actions_encoded['leader']\n",
    "    ampl.set['Af'] = actions_encoded['follower']\n",
    "    \n",
    "    ampl.param['Ul'] = utilities_df['leader']\n",
    "    ampl.param['Uf'] = utilities_df['follower']\n",
    "    \n",
    "    optimal = {}\n",
    "    for action_follower in actions_encoded['follower']:\n",
    "        ampl.param['Af_bar'] = action_follower\n",
    "        ampl.solve(solver='gurobi')\n",
    "        assert ampl.solve_result == \"solved\"\n",
    "        \n",
    "        obj = ampl.getObjective('obj').value()\n",
    "        sl = ampl.getVariable('sl').getValues().toPandas()\n",
    "        \n",
    "        if obj > optimal.get('obj', -float('inf')):\n",
    "            optimal = {'Af_bar': actions['follower'][action_follower], 'obj': obj, 'sl': sl}\n",
    "    \n",
    "    ampl.close()\n",
    "    \n",
    "    return optimal\n",
    "    "
   ]
  },
  {
   "cell_type": "code",
   "execution_count": 105,
   "metadata": {},
   "outputs": [
    {
     "name": "stdout",
     "output_type": "stream",
     "text": [
      "Gurobi 9.5.1: optimal solution; objective 0.7598039216\n",
      "4 simplex iterations\n",
      "Gurobi 9.5.1: optimal solution; objective 0.662745098\n",
      "4 simplex iterations\n",
      "Gurobi 9.5.1: optimal solution; objective 0.562745098\n",
      "Gurobi 9.5.1: optimal solution; objective 0.5147058824\n",
      "\n",
      "RESULTS:\n",
      "Optimal action for follower:  t1\n",
      "Optimal strategy for leader: \n",
      " t1 -> 0.5196078431372549\n",
      " t2 -> 0.3254901960784313\n",
      " t3 -> 0.1254901960784314\n",
      " t4 -> 0.02941176470588236\n",
      "Optimal objective value:  0.7598039215686274\n"
     ]
    }
   ],
   "source": [
    "# Game\n",
    "players = ['leader', 'follower']\n",
    "\n",
    "A_1 = [\"t1\", \"t2\", \"t3\", \"t4\"]\n",
    "A_2 = [\"t1\", \"t2\", \"t3\", \"t4\"]\n",
    "\n",
    "I = {'leader': A_1, 'follower': A_2}\n",
    "\n",
    "U1 = [[1, 0.5, 0.5, 0.5],\n",
    "    [0.5, 1, 0.5, 0.5],\n",
    "    [0.5, 0.5, 1, 0.5],\n",
    "    [0.5, 0.5, 0.5, 1]]\n",
    "\n",
    "U2 = [[0, 0.4, 0.3, 0.3],\n",
    "    [0.6, 0, 0.4, 0.3],\n",
    "    [0.7, 0.6, 0, 0.4],\n",
    "    [0.7, 0.7, 0.6, 0]]\n",
    "\n",
    "U = {'leader': U1, 'follower': U2}\n",
    "\n",
    "optimal = stackleberg_equilibrium(players, I, U)\n",
    "\n",
    "print(\"\\nRESULTS:\")\n",
    "print(\"Optimal action for follower: \", optimal['Af_bar'])\n",
    "print(\"Optimal strategy for leader: \")\n",
    "for index, row in optimal['sl'].iterrows():\n",
    "    print(f\" {I['leader'][index]} -> {row['sl.val']}\")\n",
    "print(\"Optimal objective value: \", optimal['obj'])"
   ]
  },
  {
   "cell_type": "code",
   "execution_count": null,
   "metadata": {},
   "outputs": [],
   "source": []
  }
 ],
 "metadata": {
  "kernelspec": {
   "display_name": "Python 3",
   "language": "python",
   "name": "python3"
  },
  "language_info": {
   "codemirror_mode": {
    "name": "ipython",
    "version": 3
   },
   "file_extension": ".py",
   "mimetype": "text/x-python",
   "name": "python",
   "nbconvert_exporter": "python",
   "pygments_lexer": "ipython3",
   "version": "3.11.9"
  }
 },
 "nbformat": 4,
 "nbformat_minor": 2
}
