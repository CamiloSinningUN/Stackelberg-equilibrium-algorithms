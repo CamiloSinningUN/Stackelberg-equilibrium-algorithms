{
 "cells": [
  {
   "cell_type": "markdown",
   "metadata": {},
   "source": [
    "# Stackleberg equilibrium\n",
    "\n",
    "This notebook is used to find the stackleberg equilibrium for a game in extensive form translated into normal-form."
   ]
  },
  {
   "cell_type": "code",
   "execution_count": 443,
   "metadata": {},
   "outputs": [],
   "source": [
    "from amplpy import AMPL\n",
    "import pandas as pd"
   ]
  },
  {
   "cell_type": "code",
   "execution_count": 444,
   "metadata": {},
   "outputs": [],
   "source": [
    "def data_preprocessing(players, actions, utility_matrices):\n",
    "    actions_encoded = {player: [i for i in range(len(actions[player]))] for player in players}\n",
    "    utilities_df = {player: pd.DataFrame(utility_matrices[player], index=actions_encoded['leader'], columns=actions_encoded['follower']) for player in players}\n",
    "    \n",
    "    return utilities_df, actions_encoded"
   ]
  },
  {
   "cell_type": "code",
   "execution_count": 445,
   "metadata": {},
   "outputs": [],
   "source": [
    "def stackleberg_equilibrium(players, actions, utilities):\n",
    "    utilities_df, actions_encoded = data_preprocessing(players, actions, utilities)\n",
    "    \n",
    "    ampl = AMPL()\n",
    "    ampl.read('normal_stackleberg.mod')\n",
    "    \n",
    "    ampl.set['Al'] = actions_encoded['leader']\n",
    "    ampl.set['Af'] = actions_encoded['follower']\n",
    "    \n",
    "    ampl.param['Ul'] = utilities_df['leader']\n",
    "    ampl.param['Uf'] = utilities_df['follower']\n",
    "    \n",
    "    optimal = {}\n",
    "    for action_follower in actions_encoded['follower']:\n",
    "        ampl.param['Af_bar'] = action_follower\n",
    "        ampl.solve(solver='gurobi')\n",
    "        assert ampl.solve_result == \"solved\"\n",
    "        \n",
    "        obj = ampl.getObjective('obj').value()\n",
    "        sl = ampl.getVariable('sl').getValues().toPandas()\n",
    "        \n",
    "        if obj > optimal.get('obj', -float('inf')):\n",
    "            optimal = {'Af_bar': actions['follower'][action_follower], 'obj': obj, 'sl': sl}\n",
    "    \n",
    "    ampl.close()\n",
    "    \n",
    "    return optimal\n",
    "    "
   ]
  },
  {
   "cell_type": "code",
   "execution_count": 446,
   "metadata": {},
   "outputs": [
    {
     "name": "stdout",
     "output_type": "stream",
     "text": [
      "Gurobi 9.5.1: optimal solution; objective 0.7598039216\n",
      "4 simplex iterations\n",
      "Gurobi 9.5.1: optimal solution; objective 0.662745098\n",
      "4 simplex iterations\n",
      "Gurobi 9.5.1: optimal solution; objective 0.562745098\n",
      "Gurobi 9.5.1: optimal solution; objective 0.5147058824\n",
      "\n",
      "RESULTS:\n",
      "Optimal action for follower:  t1\n",
      "Optimal strategy for leader: \n",
      " t1 -> 0.5196078431372549\n",
      " t2 -> 0.3254901960784313\n",
      " t3 -> 0.1254901960784314\n",
      " t4 -> 0.02941176470588236\n",
      "Optimal objective value:  0.7598039215686274\n"
     ]
    }
   ],
   "source": [
    "# Game\n",
    "players = ['leader', 'follower']\n",
    "\n",
    "A_1 = [\"t1\", \"t2\", \"t3\", \"t4\"]\n",
    "A_2 = [\"t1\", \"t2\", \"t3\", \"t4\"]\n",
    "\n",
    "I = {'leader': A_1, 'follower': A_2}\n",
    "\n",
    "U1 = [[1, 0.5, 0.5, 0.5],\n",
    "    [0.5, 1, 0.5, 0.5],\n",
    "    [0.5, 0.5, 1, 0.5],\n",
    "    [0.5, 0.5, 0.5, 1]]\n",
    "\n",
    "U2 = [[0, 0.4, 0.3, 0.3],\n",
    "    [0.6, 0, 0.4, 0.3],\n",
    "    [0.7, 0.6, 0, 0.4],\n",
    "    [0.7, 0.7, 0.6, 0]]\n",
    "\n",
    "U = {'leader': U1, 'follower': U2}\n",
    "\n",
    "optimal = stackleberg_equilibrium(players, I, U)\n",
    "\n",
    "print(\"\\nRESULTS:\")\n",
    "print(\"Optimal action for follower: \", optimal['Af_bar'])\n",
    "print(\"Optimal strategy for leader: \")\n",
    "for index, row in optimal['sl'].iterrows():\n",
    "    print(f\" {I['leader'][index]} -> {row['sl.val']}\")\n",
    "print(\"Optimal objective value: \", optimal['obj'])"
   ]
  },
  {
   "cell_type": "markdown",
   "metadata": {},
   "source": [
    "# Bayesian game"
   ]
  },
  {
   "cell_type": "code",
   "execution_count": 447,
   "metadata": {},
   "outputs": [],
   "source": [
    "def bayesian_data_preprocesing(players, actions, utility_matrices, types_follower, probabilities_follower):\n",
    "    actions_encoded = {player: [i for i in range(len(actions[player]))] for player in players}\n",
    "    types_follower_encoded = [i for i in range(len(types_follower))]\n",
    "    probabilities_follower_df = pd.DataFrame(probabilities_follower.values(), index=types_follower_encoded)\n",
    "    utilities_df = {\n",
    "        'leader': pd.DataFrame(utility_matrices['leader'], index=actions_encoded['leader'], columns=actions_encoded['follower']),\n",
    "        'follower': [pd.DataFrame(utility_matrices['follower'][type_follower], index=actions_encoded['leader'], columns=actions_encoded['follower']) for type_follower in types_follower]\n",
    "    }\n",
    "    \n",
    "    utilities_df['follower'] = pd.concat(utilities_df['follower'], keys=types_follower_encoded)\n",
    "    \n",
    "    return utilities_df, actions_encoded, types_follower_encoded, probabilities_follower_df"
   ]
  },
  {
   "cell_type": "code",
   "execution_count": 448,
   "metadata": {},
   "outputs": [],
   "source": [
    "def bayesian_stackleberg_equilibrium(players, actions, utility_matrices, types_follower, probabilities_follower):\n",
    "    utilities_df, actions_encoded, types_follower_encoded, probabilities_follower_df = bayesian_data_preprocesing(players, actions, utility_matrices, types_follower, probabilities_follower)\n",
    "    \n",
    "    ampl = AMPL()\n",
    "    ampl.read('bayesian_normal_stackleberg.mod')\n",
    "    \n",
    "    ampl.set['Al'] = actions_encoded['leader']\n",
    "    ampl.set['Af'] = actions_encoded['follower']\n",
    "    ampl.set['T'] = types_follower_encoded\n",
    "\n",
    "    ampl.param['P'] = probabilities_follower_df\n",
    "    ampl.param['Ul'] = utilities_df['leader']\n",
    "    ampl.param['Uf'] = utilities_df['follower']\n",
    "    \n",
    "    \n",
    "    optimal = {}\n",
    "    for action_follower_i in actions_encoded['follower']:\n",
    "        for action_follower_j in range(action_follower_i, len(actions_encoded['follower'])):\n",
    "            action_follower_df = pd.DataFrame([action_follower_i, action_follower_j], index=types_follower_encoded)\n",
    "            ampl.param['Af_bar'] = action_follower_df\n",
    "        \n",
    "            ampl.solve(solver='gurobi')\n",
    "            assert ampl.solve_result == \"solved\"\n",
    "            \n",
    "            obj = ampl.getObjective('obj').value()\n",
    "            sl = ampl.getVariable('sl').getValues().toPandas()\n",
    "            \n",
    "            if obj > optimal.get('obj', -float('inf')):\n",
    "                optimal = {'Af_bar': action_follower_df, 'obj': obj, 'sl': sl}\n",
    "            \n",
    "    ampl.close()\n",
    "    \n",
    "    return optimal"
   ]
  },
  {
   "cell_type": "code",
   "execution_count": 449,
   "metadata": {},
   "outputs": [
    {
     "name": "stdout",
     "output_type": "stream",
     "text": [
      "Gurobi 9.5.1: optimal solution; objective 0.5085066163\n",
      "4 simplex iterations\n",
      "Gurobi 9.5.1: optimal solution; objective 0.5884502924\n",
      "4 simplex iterations\n",
      "Gurobi 9.5.1: optimal solution; objective 0.6470238095\n",
      "2 simplex iterations\n",
      "Gurobi 9.5.1: optimal solution; objective 0.6593567251\n",
      "2 simplex iterations\n",
      "Gurobi 9.5.1: optimal solution; objective 0.5660377358\n",
      "3 simplex iterations\n",
      "Gurobi 9.5.1: optimal solution; objective 0.6023809524\n",
      "5 simplex iterations\n",
      "Gurobi 9.5.1: optimal solution; objective 0.6293859649\n",
      "2 simplex iterations\n",
      "Gurobi 9.5.1: optimal solution; objective 0.5523809524\n",
      "4 simplex iterations\n",
      "Gurobi 9.5.1: optimal solution; objective 0.5529761905\n",
      "Gurobi 9.5.1: optimal solution; objective 0.5147058824\n",
      "1 simplex iterations\n",
      "\n",
      "RESULTS:\n",
      "Optimal action for follower: \n",
      "type1 -> t1\n",
      "type2 -> t4\n",
      "Optimal strategy for leader: \n",
      " t1 -> 0.2368421052631579\n",
      " t2 -> 0.11695906432748537\n",
      " t3 -> 0.2456140350877193\n",
      " t4 -> 0.40058479532163743\n",
      "Optimal objective value:  0.6593567251461988\n"
     ]
    }
   ],
   "source": [
    "# Game\n",
    "players = ['leader', 'follower']\n",
    "\n",
    "A_1 = [\"t1\", \"t2\", \"t3\", \"t4\"]\n",
    "A_2 = [\"t1\", \"t2\", \"t3\", \"t4\"]\n",
    "\n",
    "I = {'leader': A_1, 'follower': A_2}\n",
    "\n",
    "T = ['type1', 'type2'] # Types of the follower\n",
    "\n",
    "P = {'type1': 0.5, 'type2': 0.5} # Probability of each type\n",
    "\n",
    "\n",
    "Ul = [[1, 0.5, 0.5, 0.5],\n",
    "    [0.5, 1, 0.5, 0.5],\n",
    "    [0.5, 0.5, 1, 0.5],\n",
    "    [0.5, 0.5, 0.5, 1]]\n",
    "\n",
    "Uf_type1 = [[0, 0.4, 0.3, 0.3],\n",
    "            [0.6, 0, 0.4, 0.3],\n",
    "            [0.7, 0.6, 0, 0.4],\n",
    "            [0.7, 0.7, 0.6, 0]]\n",
    "\n",
    "Uf_type2 = [[0, 0.7, 0.6, 0.6],\n",
    "            [0.4, 0, 0.7, 0.6],\n",
    "            [0.3, 0.4, 0, 0.7],\n",
    "            [0.3, 0.3, 0.4, 0]]\n",
    "\n",
    "Uf = {'type1': Uf_type1, 'type2': Uf_type2}\n",
    "\n",
    "U = {'leader': Ul, 'follower': Uf}\n",
    "\n",
    "optimal = bayesian_stackleberg_equilibrium(players, I, U, T, P)\n",
    "\n",
    "print(\"\\nRESULTS:\")\n",
    "print(\"Optimal action for follower: \")\n",
    "for index, type_follower in enumerate(T):\n",
    "    print(f\"{type_follower} -> {I['follower'][optimal['Af_bar'].loc[index].values[0]]}\")\n",
    "print(\"Optimal strategy for leader: \")\n",
    "for index, row in optimal['sl'].iterrows():\n",
    "    print(f\" {I['leader'][index]} -> {row['sl.val']}\")\n",
    "print(\"Optimal objective value: \", optimal['obj'])"
   ]
  }
 ],
 "metadata": {
  "kernelspec": {
   "display_name": "Python 3",
   "language": "python",
   "name": "python3"
  },
  "language_info": {
   "codemirror_mode": {
    "name": "ipython",
    "version": 3
   },
   "file_extension": ".py",
   "mimetype": "text/x-python",
   "name": "python",
   "nbconvert_exporter": "python",
   "pygments_lexer": "ipython3",
   "version": "3.11.9"
  }
 },
 "nbformat": 4,
 "nbformat_minor": 2
}
