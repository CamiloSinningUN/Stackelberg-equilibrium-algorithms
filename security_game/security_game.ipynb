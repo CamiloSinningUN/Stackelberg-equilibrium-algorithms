{
 "cells": [
  {
   "cell_type": "markdown",
   "metadata": {},
   "source": [
    "# Security game \n",
    "Consider the security game setting described in the following. The environment to be secured is represented as a grid map, see Figure 1 below, where white cells can be traversed by a patroller, while black cells cannot be traversed. Call V the set of white cells and v a single cell. We suggest representing the environment with a binary matrix, where a white cell is associated with a 1 and a black cell with a 0. The time horizon is finite, from t = 0 to t = T, and, at every round, the patroller can move by one cell. More precisely, at every round t, the patroller can move from a cell to a neighbor cell or it can stay in the current cell. \n",
    "\n",
    "By exploiting an approach similar to that of the sequence form, one can use the following representation for the patroller’s strategy: call \\alpha_{v, v’, t} the realization plan expressing the (unconditioned) probability with which the patroller moves from cell v’ to a neighbor v at round t. As in the sequence form, some consistency constraints are needed. In particular, in this case the sequence-form constraints are $\\sum_{v’} \\alpha_{v, v’, t} = \\sum_{v’’} \\alpha_{v’’, v, t+1}$, where $\\sum_{v’} \\alpha_{v, v’, t}$ is the probability that the patroller is in cell v at round t.\n",
    "\n",
    "The environment is populated with some targets denoted with diamonds in Figure 2. The players’ utility functions are defined as in Section 4.1 of the paper titled “Computing Optimal Randomized Resource Allocations for Massive Security Games”. Notice that the probability that the patroller covers a given cell v at round t is given by $\\sum_{v’} \\alpha_{v, v’, t}$, where the meaning of the term “covers” is the same used in the aforementioned paper. Furthermore, the game is general-sum.\n",
    "\n",
    "![2024-05-05 103031.png](<./2024-05-05 103031.png>)\n",
    "![2024-05-05 103105.png](<./2024-05-05 103105.png>)\n",
    "\n",
    "The available actions of the attacker are pairs (v*, t) where v* is a cell with a target. \n",
    "\n",
    "To model the situation in which the attacker does not know the starting cell of the patroller, assume that the patroller, at t = 0, is in a fictitious cell that is a neighbor of all the cells of the environment and that the probabilities of moving from the fictitious cell to the cells of the environment is part of the strategy. The patroller cannot move to the fictitious cell after t = 0. Furthermore, the attacker cannot attack at t = 0.\n",
    "\n",
    "Design either a Multi-LP or a MILP program, and the corresponding MOD and DAT files, to find the Stackelberg equilibrium of the game once given the environment and the values associated with the targets.\n",
    "\n",
    "![IMG_46334385B247-1 (1).jpeg](<./IMG_46334385B247-1 (1).jpeg>)"
   ]
  },
  {
   "cell_type": "code",
   "execution_count": 30,
   "metadata": {},
   "outputs": [],
   "source": [
    "from amplpy import AMPL\n",
    "import pandas as pd\n",
    "import matplotlib.pyplot as plt\n",
    "import matplotlib.colors as mcolors"
   ]
  },
  {
   "cell_type": "code",
   "execution_count": 31,
   "metadata": {},
   "outputs": [],
   "source": [
    "# Enviroment\n",
    "env = [[0, 1, 0, 1],\n",
    "        [1, 1, 1, 1],\n",
    "        [1, 0, 1, 0],\n",
    "        [1, 1, 1, 1]]\n",
    "\n",
    "# Target values\n",
    "U =  [[5, -20], # defender \n",
    "    [-10, 30]]  # attacker\n",
    "U_df = pd.DataFrame(U, columns=['covered', 'uncovered'], index=['defender', 'attacker'])\n",
    "\n",
    "targets = [\n",
    "    {\n",
    "        'x': 1,\n",
    "        'y': 0,\n",
    "        'value': U_df\n",
    "    },\n",
    "    {\n",
    "        'x': 2,\n",
    "        'y': 3,\n",
    "        'value': U_df\n",
    "    }\n",
    "]\n",
    "\n",
    "# Time paramter\n",
    "max_time = 100\n"
   ]
  },
  {
   "cell_type": "code",
   "execution_count": 32,
   "metadata": {},
   "outputs": [
    {
     "data": {
      "image/png": "[encoded data removed]",
      "text/plain": [
       "<Figure size 640x480 with 1 Axes>"
      ]
     },
     "metadata": {},
     "output_type": "display_data"
    }
   ],
   "source": [
    "env_df = pd.DataFrame(env)\n",
    "env_targets = env.copy()\n",
    "for target in targets:\n",
    "    env_targets[target['y']][target['x']] = 2\n",
    "\n",
    "cmap = mcolors.ListedColormap(['black', 'white', 'cyan'])\n",
    "plt.imshow(env_targets, cmap=cmap)\n",
    "plt.show()"
   ]
  },
  {
   "cell_type": "code",
   "execution_count": null,
   "metadata": {},
   "outputs": [],
   "source": [
    "def data_preprocessing():\n",
    "    pass"
   ]
  },
  {
   "cell_type": "code",
   "execution_count": null,
   "metadata": {},
   "outputs": [],
   "source": [
    "def stackleberg_equilibrium_security_game(T):    \n",
    "    ampl = AMPL()\n",
    "    ampl.read('security_stackleberg.mod')\n",
    "    \n",
    "    ampl.set['T'] = T\n",
    "\n",
    "    ampl.solve(solver='gurobi')\n",
    "    assert ampl.solve_result == \"solved\"\n",
    "    \n",
    "    obj = ampl.getObjective('obj').value()\n",
    "\n",
    "    ampl.close()\n",
    "    \n",
    "    return obj"
   ]
  },
  {
   "cell_type": "code",
   "execution_count": 33,
   "metadata": {},
   "outputs": [],
   "source": [
    "# Sets\n",
    "V = range(env_df.shape[0]*env_df.shape[1])\n",
    "# Players \n",
    "T = range(1, max_time + 1)\n",
    "\n",
    "P = ['defender', 'attacker']\n",
    "\n",
    "# Actions\n",
    "A_defender = ['stay', 'move_up', 'move_down', 'move_left', 'move_right']\n",
    "A_attacker = [f'attack_{i}' for i in range(len(targets))] \n",
    "# A_attacker = [f'attack_{i}' for i in range(len(targets))] + ['do_nothing'] Should we add do nothing? "
   ]
  }
 ],
 "metadata": {
  "kernelspec": {
   "display_name": "Python 3",
   "language": "python",
   "name": "python3"
  },
  "language_info": {
   "codemirror_mode": {
    "name": "ipython",
    "version": 3
   },
   "file_extension": ".py",
   "mimetype": "text/x-python",
   "name": "python",
   "nbconvert_exporter": "python",
   "pygments_lexer": "ipython3",
   "version": "3.11.9"
  }
 },
 "nbformat": 4,
 "nbformat_minor": 2
}
